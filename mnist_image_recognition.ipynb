{
  "nbformat": 4,
  "nbformat_minor": 0,
  "metadata": {
    "colab": {
      "provenance": [],
      "gpuType": "T4",
      "authorship_tag": "ABX9TyPZMChDUXxboil6YSMfQCzS",
      "include_colab_link": true
    },
    "kernelspec": {
      "name": "python3",
      "display_name": "Python 3"
    },
    "language_info": {
      "name": "python"
    },
    "accelerator": "GPU"
  },
  "cells": [
    {
      "cell_type": "markdown",
      "metadata": {
        "id": "view-in-github",
        "colab_type": "text"
      },
      "source": [
        "<a href=\"https://colab.research.google.com/github/AhmedElshobaky/mnist_image_recognition/blob/master/mnist_image_recognition.ipynb\" target=\"_parent\"><img src=\"https://colab.research.google.com/assets/colab-badge.svg\" alt=\"Open In Colab\"/></a>"
      ]
    },
    {
      "cell_type": "code",
      "execution_count": 7,
      "metadata": {
        "id": "q1oFoMAjcAbN"
      },
      "outputs": [],
      "source": [
        "import numpy as np\n",
        "import pandas as pd\n",
        "import matplotlib.pyplot as plt\n",
        "\n",
        "import tensorflow as tf\n",
        "from tensorflow.keras.models import Sequential\n",
        "from tensorflow.keras.layers import Dense, Dropout\n",
        "\n",
        "# setting random seed\n",
        "np.random.seed(0)\n",
        "tf.random.set_seed(1)"
      ]
    },
    {
      "cell_type": "code",
      "source": [
        "(x_train, y_train), (x_test, y_test) = tf.keras.datasets.mnist.load_data()\n",
        "print(\"length of training set: \", len(x_train))\n",
        "print(\"length of test set: \", len(x_test))"
      ],
      "metadata": {
        "colab": {
          "base_uri": "https://localhost:8080/"
        },
        "id": "AHtSj4tccGLg",
        "outputId": "5a5b92ac-bcd9-43a1-fabf-1580e71fc3c6"
      },
      "execution_count": 8,
      "outputs": [
        {
          "output_type": "stream",
          "name": "stdout",
          "text": [
            "length of training set:  60000\n",
            "length of test set:  10000\n"
          ]
        }
      ]
    },
    {
      "cell_type": "code",
      "source": [
        "plt.imshow(x_train[0], cmap='Greys')\n",
        "print(\"Label is: \", y_train[0])"
      ],
      "metadata": {
        "colab": {
          "base_uri": "https://localhost:8080/",
          "height": 447
        },
        "id": "lYJRMl74cMXm",
        "outputId": "839c6597-2375-42fd-eac9-07dd78baa00a"
      },
      "execution_count": 9,
      "outputs": [
        {
          "output_type": "stream",
          "name": "stdout",
          "text": [
            "Label is:  5\n"
          ]
        },
        {
          "output_type": "display_data",
          "data": {
            "text/plain": [
              "<Figure size 640x480 with 1 Axes>"
            ],
            "image/png": "[encoded data removed]"
          },
          "metadata": {}
        }
      ]
    },
    {
      "cell_type": "code",
      "source": [
        "fig = plt.figure(figsize=(20, 20))\n",
        "for i in range(5):\n",
        "    ax = fig.add_subplot(1, 5, i+1, xticks=[], yticks=[])\n",
        "    ax.imshow(x_train[i], cmap='Greys')\n",
        "    ax.set_title('Label: ' + str(y_train[i]))\n",
        "print(\"x_train[0].shape: \",x_train[0].shape)"
      ],
      "metadata": {
        "colab": {
          "base_uri": "https://localhost:8080/",
          "height": 228
        },
        "id": "_G9kpJhicPg0",
        "outputId": "c0d56a43-68ed-4c06-9cad-dcda220f5eac"
      },
      "execution_count": 10,
      "outputs": [
        {
          "output_type": "stream",
          "name": "stdout",
          "text": [
            "x_train[0].shape:  (28, 28)\n"
          ]
        },
        {
          "output_type": "display_data",
          "data": {
            "text/plain": [
              "<Figure size 2000x2000 with 5 Axes>"
            ],
            "image/png": "[encoded data removed]"
          },
          "metadata": {}
        }
      ]
    },
    {
      "cell_type": "code",
      "source": [
        "# reshape\n",
        "x_train_reshaped = x_train.reshape(-1, 28*28)\n",
        "x_test_reshaped = x_test.reshape(-1, 28*28)\n",
        "print(\"x_train_reshaped[0].shape: \",x_train_reshaped[0].shape)"
      ],
      "metadata": {
        "colab": {
          "base_uri": "https://localhost:8080/"
        },
        "id": "6jr9i-bEcSJG",
        "outputId": "67010001-3330-446f-9840-7c6c0d7e8dc9"
      },
      "execution_count": 11,
      "outputs": [
        {
          "output_type": "stream",
          "name": "stdout",
          "text": [
            "x_train_reshaped[0].shape:  (784,)\n"
          ]
        }
      ]
    },
    {
      "cell_type": "code",
      "source": [
        "# make y categorical\n",
        "from tensorflow.keras.utils import to_categorical\n",
        "print('y_train[0]: ', y_train[0])\n",
        "y_train_cat = to_categorical(y_train, 10)\n",
        "y_test_cat = to_categorical(y_test, 10)\n",
        "print('y_train_cat[0]: ', y_train_cat[0])"
      ],
      "metadata": {
        "colab": {
          "base_uri": "https://localhost:8080/"
        },
        "id": "tG3A4iYZcUGj",
        "outputId": "391bcdc6-a0aa-4474-f947-8868f08f1a60"
      },
      "execution_count": 12,
      "outputs": [
        {
          "output_type": "stream",
          "name": "stdout",
          "text": [
            "y_train[0]:  5\n",
            "y_train_cat[0]:  [0. 0. 0. 0. 0. 1. 0. 0. 0. 0.]\n"
          ]
        }
      ]
    },
    {
      "cell_type": "markdown",
      "source": [
        "# **Building the model**"
      ],
      "metadata": {
        "id": "RCU4RfDHcX_H"
      }
    },
    {
      "cell_type": "code",
      "source": [
        "#model architecture\n",
        "model = Sequential()\n",
        "model.add(Dense(128, activation='relu', input_shape=(28*28,))) #1st layer: 128 nodes\n",
        "model.add(Dropout(0.2))  #Add dropout so the model doesn't overfit\n",
        "model.add(Dense(64, activation='relu')) # 2nd hidden layer: 64 nodes\n",
        "model.add(Dropout(0.2))\n",
        "model.add(Dense(10, activation='softmax')) #output layer: 10 nodes\n",
        "\n",
        "#compile\n",
        "model.compile(loss = 'categorical_crossentropy', optimizer='adam', metrics=['accuracy'])\n",
        "model.summary()"
      ],
      "metadata": {
        "colab": {
          "base_uri": "https://localhost:8080/"
        },
        "id": "M8D4WliycbMl",
        "outputId": "f371f75e-04f0-447a-8aea-d43db2bba596"
      },
      "execution_count": 13,
      "outputs": [
        {
          "output_type": "stream",
          "name": "stdout",
          "text": [
            "Model: \"sequential\"\n",
            "_________________________________________________________________\n",
            " Layer (type)                Output Shape              Param #   \n",
            "=================================================================\n",
            " dense (Dense)               (None, 128)               100480    \n",
            "                                                                 \n",
            " dropout (Dropout)           (None, 128)               0         \n",
            "                                                                 \n",
            " dense_1 (Dense)             (None, 64)                8256      \n",
            "                                                                 \n",
            " dropout_1 (Dropout)         (None, 64)                0         \n",
            "                                                                 \n",
            " dense_2 (Dense)             (None, 10)                650       \n",
            "                                                                 \n",
            "=================================================================\n",
            "Total params: 109386 (427.29 KB)\n",
            "Trainable params: 109386 (427.29 KB)\n",
            "Non-trainable params: 0 (0.00 Byte)\n",
            "_________________________________________________________________\n"
          ]
        }
      ]
    },
    {
      "cell_type": "code",
      "source": [
        "# train\n",
        "model.fit(x_train_reshaped, y_train_cat, epochs = 10, batch_size=10 )"
      ],
      "metadata": {
        "colab": {
          "base_uri": "https://localhost:8080/"
        },
        "id": "HFm3Jq21c2UZ",
        "outputId": "a54790b0-454d-4f97-d102-14078d104a22"
      },
      "execution_count": 14,
      "outputs": [
        {
          "output_type": "stream",
          "name": "stdout",
          "text": [
            "Epoch 1/10\n",
            "6000/6000 [==============================] - 23s 3ms/step - loss: 1.9588 - accuracy: 0.6531\n",
            "Epoch 2/10\n",
            "6000/6000 [==============================] - 19s 3ms/step - loss: 0.5958 - accuracy: 0.8302\n",
            "Epoch 3/10\n",
            "6000/6000 [==============================] - 18s 3ms/step - loss: 0.4681 - accuracy: 0.8740\n",
            "Epoch 4/10\n",
            "6000/6000 [==============================] - 19s 3ms/step - loss: 0.4129 - accuracy: 0.8899\n",
            "Epoch 5/10\n",
            "6000/6000 [==============================] - 19s 3ms/step - loss: 0.3744 - accuracy: 0.9016\n",
            "Epoch 6/10\n",
            "6000/6000 [==============================] - 19s 3ms/step - loss: 0.3684 - accuracy: 0.9034\n",
            "Epoch 7/10\n",
            "6000/6000 [==============================] - 19s 3ms/step - loss: 0.3525 - accuracy: 0.9103\n",
            "Epoch 8/10\n",
            "6000/6000 [==============================] - 19s 3ms/step - loss: 0.3397 - accuracy: 0.9127\n",
            "Epoch 9/10\n",
            "6000/6000 [==============================] - 19s 3ms/step - loss: 0.3356 - accuracy: 0.9176\n",
            "Epoch 10/10\n",
            "6000/6000 [==============================] - 18s 3ms/step - loss: 0.3370 - accuracy: 0.9168\n"
          ]
        },
        {
          "output_type": "execute_result",
          "data": {
            "text/plain": [
              "<keras.src.callbacks.History at 0x7de8a4e952a0>"
            ]
          },
          "metadata": {},
          "execution_count": 14
        }
      ]
    },
    {
      "cell_type": "code",
      "source": [
        "# predictions\n",
        "predictions_vector = model.predict(x_test_reshaped)"
      ],
      "metadata": {
        "colab": {
          "base_uri": "https://localhost:8080/"
        },
        "id": "0cj-QeYac9MS",
        "outputId": "b4113db7-8fc4-4dbc-f807-0aa352cd425d"
      },
      "execution_count": 15,
      "outputs": [
        {
          "output_type": "stream",
          "name": "stdout",
          "text": [
            "313/313 [==============================] - 1s 4ms/step\n"
          ]
        }
      ]
    },
    {
      "cell_type": "code",
      "source": [
        "predictions = [np.argmax(pred) for pred in predictions_vector]"
      ],
      "metadata": {
        "id": "1FTXg-EOeHNq"
      },
      "execution_count": 16,
      "outputs": []
    },
    {
      "cell_type": "code",
      "source": [
        "num_correct = 0\n",
        "for i in range(len(predictions)):\n",
        "    if predictions[i] == y_test[i]:\n",
        "        num_correct += 1\n",
        "print(\"Model accuracy: \", (num_correct/len(y_test))*100, '%')"
      ],
      "metadata": {
        "colab": {
          "base_uri": "https://localhost:8080/"
        },
        "id": "a3_vnHsKeLUu",
        "outputId": "632adcd7-ebc2-4304-95a0-4294288c392c"
      },
      "execution_count": 19,
      "outputs": [
        {
          "output_type": "stream",
          "name": "stdout",
          "text": [
            "Model accuracy:  95.15 %\n"
          ]
        }
      ]
    },
    {
      "cell_type": "code",
      "source": [],
      "metadata": {
        "id": "9TFxBSvmeMhz"
      },
      "execution_count": null,
      "outputs": []
    }
  ]
}